{
 "cells": [
  {
   "cell_type": "markdown",
   "id": "aed4260a",
   "metadata": {},
   "source": [
    "# Dataset"
   ]
  },
  {
   "cell_type": "code",
   "execution_count": 1,
   "id": "cd777065",
   "metadata": {},
   "outputs": [],
   "source": [
    "from sklearn.datasets import load_breast_cancer\n",
    "\n",
    "data = load_breast_cancer()\n",
    "X = data['data']\n",
    "Y = data['target']\n"
   ]
  },
  {
   "cell_type": "code",
   "execution_count": 2,
   "id": "971e2b68",
   "metadata": {},
   "outputs": [],
   "source": [
    "from sklearn.model_selection import train_test_split\n",
    "from torch.utils.data import DataLoader, Dataset\n",
    "from sklearn.preprocessing import StandardScaler\n",
    "\n",
    "class Custom_Dataset(Dataset):\n",
    "    def __init__(self, X, Y):\n",
    "        self.X = X\n",
    "        self.Y = Y\n",
    "    def __len__(self):\n",
    "        return len(self.X)\n",
    "    def __getitem__(self, idx):\n",
    "        X_return = torch.tensor(self.X[idx], dtype = torch.float32)\n",
    "        Y_return = torch.tensor(self.Y[idx], dtype = torch.float32).reshape(-1,1)\n",
    "        return X_return, Y_return\n",
    "        \n",
    "X_train, X_test, Y_train, Y_test = train_test_split(X, Y, train_size = 0.8, shuffle = True)\n",
    "X_train, X_val, Y_train, Y_val = train_test_split(X_train, Y_train, train_size = 0.8, shuffle = True)\n",
    "\n",
    "scaler = StandardScaler()\n",
    "scaler.fit(X_train)\n",
    "X_train_scale = scaler.transform(X_train)\n",
    "X_test_scale = scaler.transform(X_test)\n",
    "X_val_scale = scaler.transform(X_val)\n",
    "\n",
    "train_dataset = Custom_Dataset(X_train_scale, Y_train)\n",
    "test_dataset = Custom_Dataset(X_test_scale, Y_test)\n",
    "val_dataset = Custom_Dataset(X_val_scale, Y_val)\n",
    "\n",
    "batch_size = 1\n",
    "\n",
    "train_loader = DataLoader(train_dataset, batch_size = batch_size, shuffle = True)\n",
    "test_loader = DataLoader(test_dataset, batch_size = batch_size, shuffle = True)\n",
    "val_loader = DataLoader(val_dataset, batch_size = batch_size, shuffle = True)\n"
   ]
  },
  {
   "cell_type": "markdown",
   "id": "777066fe",
   "metadata": {},
   "source": [
    "# Deep Learning Model"
   ]
  },
  {
   "cell_type": "code",
   "execution_count": 3,
   "id": "d5e033fe",
   "metadata": {},
   "outputs": [],
   "source": [
    "import torch.nn as nn\n",
    "\n",
    "class ANN_Model(nn.Module):\n",
    "    def __init__(self, n_features, n_targets):\n",
    "        super().__init__()\n",
    "        self.model = nn.Sequential(\n",
    "            nn.Linear(n_features, 50),\n",
    "            nn.ReLU(),\n",
    "            nn.Dropout(p = 0.2),\n",
    "            nn.Linear(50,25),\n",
    "            nn.ReLU(),\n",
    "            nn.Dropout(p = 0.2),\n",
    "            nn.Linear(25, 12),\n",
    "            nn.ReLU(),\n",
    "            nn.Dropout(p = 0.2),\n",
    "            nn.Linear(12, 1),\n",
    "            nn.Sigmoid()\n",
    "        )\n",
    "    def forward(self, x):\n",
    "        return self.model(x)"
   ]
  },
  {
   "cell_type": "markdown",
   "id": "23f11bc7",
   "metadata": {},
   "source": [
    "# Training"
   ]
  },
  {
   "cell_type": "code",
   "execution_count": 4,
   "id": "226563af",
   "metadata": {},
   "outputs": [],
   "source": [
    "import torch\n",
    "import torch.optim as optim\n",
    "from tqdm import tqdm\n",
    "import numpy as np\n",
    "import matplotlib.pyplot as plt\n",
    "import seaborn as sns\n",
    "from sklearn.metrics import accuracy_score\n",
    "torch.cuda.empty_cache()\n",
    "\n",
    "def train(model, loss_fn, lr, epochs, train_data, val_data, test_data):\n",
    "    optimizer = optim.Adam(model.parameters(), lr = lr)\n",
    "    scaler = torch.cuda.amp.GradScaler()\n",
    "    lst_loss = []\n",
    "    lst_accuracy = []\n",
    "    mean_loss = 0\n",
    "    mean_accuracy = 0\n",
    "    lst_mean_loss = []\n",
    "    lst_mean_accuracy = []\n",
    "    val_lst_loss = []\n",
    "    val_lst_accuracy = []\n",
    "    val_mean_loss = 0\n",
    "    val_mean_accuracy = 0\n",
    "    val_lst_mean_loss = []\n",
    "    val_lst_mean_accuracy = []\n",
    "    test_lst_loss = []\n",
    "    test_lst_accuracy = []\n",
    "    test_mean_loss = 0\n",
    "    test_mean_accuracy = 0\n",
    "    test_lst_mean_loss = []\n",
    "    test_lst_mean_accuracy = []\n",
    "    for epoch in range(epochs):\n",
    "        print(\"Epoch: \", epoch + 1)\n",
    "        loop = tqdm(train_data)\n",
    "        for mb, (x_input, y_output) in enumerate(loop, start = 1):\n",
    "            model.train()\n",
    "            x_input = x_input.to(device = device)\n",
    "            y_output = y_output.to(device = device).reshape(-1,1)\n",
    "            with torch.cuda.amp.autocast():\n",
    "                prediction = model(x_input)\n",
    "                loss = loss_fn(prediction, y_output)\n",
    "                \n",
    "            optimizer.zero_grad()\n",
    "            scaler.scale(loss).backward()\n",
    "            scaler.step(optimizer)\n",
    "            scaler.update()\n",
    "            \n",
    "            loop.set_postfix(loss_function = loss.item())\n",
    "            \n",
    "        model.eval()\n",
    "        lst_lost = []\n",
    "        lst_accuracy = []\n",
    "        for i, data in enumerate(train_data, 0):\n",
    "            x_input, y_output = data\n",
    "            x_input = x_input.to(device = device)\n",
    "            y_output = y_output.to(device = device).reshape(-1,1)\n",
    "            with torch.no_grad():\n",
    "                prediction = model(x_input)\n",
    "                loss = loss_fn(prediction, y_output)\n",
    "                lst_loss.append(loss.item())\n",
    "                y_output = y_output.cpu().numpy()\n",
    "                prediction = prediction.round().cpu().numpy()\n",
    "                accuracy = accuracy_score(y_output, prediction)\n",
    "                lst_accuracy.append(accuracy)\n",
    "                \n",
    "        mean_loss = np.mean(lst_loss)\n",
    "        lst_mean_loss.append(mean_loss)\n",
    "        mean_accuracy = np.mean(lst_accuracy)\n",
    "        lst_mean_accuracy.append(mean_accuracy)\n",
    "        \n",
    "        val_lst_loss = []\n",
    "        val_lst_accuracy = []\n",
    "        for i, data in enumerate(val_data, 0):\n",
    "            x_input, y_output = data\n",
    "            x_input = x_input.to(device = device)\n",
    "            y_output = y_output.to(device = device).reshape(-1,1)\n",
    "            with torch.no_grad():\n",
    "                prediction = model(x_input)\n",
    "                loss = loss_fn(prediction, y_output)\n",
    "                val_lst_loss.append(loss.item())\n",
    "                y_output = y_output.cpu().numpy()\n",
    "                prediction = prediction.round().cpu().numpy()\n",
    "                accuracy = accuracy_score(y_output, prediction)\n",
    "                val_lst_accuracy.append(accuracy)\n",
    "                \n",
    "        val_mean_loss = np.mean(val_lst_loss)\n",
    "        val_lst_mean_loss.append(val_mean_loss)\n",
    "        val_mean_accuracy = np.mean(val_lst_accuracy)\n",
    "        val_lst_mean_accuracy.append(val_mean_accuracy)\n",
    "        \n",
    "        test_lst_loss = []\n",
    "        test_lst_accuracy = []\n",
    "        for i, data in enumerate(test_data, 0):\n",
    "            x_input, y_output = data\n",
    "            x_input = x_input.to(device = device)\n",
    "            y_output = y_output.to(device = device).reshape(-1,1)\n",
    "            with torch.no_grad():\n",
    "                prediction = model(x_input)\n",
    "                loss = loss_fn(prediction, y_output)\n",
    "                test_lst_loss.append(loss.item())\n",
    "                y_output = y_output.cpu().numpy()\n",
    "                prediction = prediction.round().cpu().numpy()\n",
    "                accuracy = accuracy_score(y_output, prediction)\n",
    "                test_lst_accuracy.append(accuracy)\n",
    "                \n",
    "        test_mean_loss = np.mean(test_lst_loss)\n",
    "        test_lst_mean_loss.append(test_mean_loss)\n",
    "        test_mean_accuracy = np.mean(test_lst_accuracy)\n",
    "        test_lst_mean_accuracy.append(test_mean_accuracy)\n",
    "        \n",
    "    ax = sns.lineplot(x = range(len(lst_mean_loss)), y = lst_mean_loss, label = \"Train\")\n",
    "    ax = sns.lineplot(x = range(len(val_lst_mean_loss)), y = val_lst_mean_loss, label = \"Validation\")\n",
    "    ax = sns.lineplot(x = range(len(test_lst_mean_loss)), y = test_lst_mean_loss, label = \"Test\")\n",
    "    \n",
    "    plt.xlabel(\"Epochs\")\n",
    "    plt.ylabel(\"Loss\")\n",
    "    plt.grid(True)\n",
    "    plt.legend()\n",
    "    plt.show()\n",
    "    \n",
    "    \n",
    "    ax = sns.lineplot(x = range(len(lst_mean_accuracy)), y = lst_mean_accuracy, label = \"Train\")\n",
    "    ax = sns.lineplot(x = range(len(val_lst_mean_accuracy)), y = val_lst_mean_accuracy, label = \"Validation\")\n",
    "    ax = sns.lineplot(x = range(len(test_lst_mean_accuracy)), y = test_lst_mean_accuracy, label = \"Test\")\n",
    "    \n",
    "    plt.xlabel(\"Epochs\")\n",
    "    plt.ylabel(\"Accuracy\")\n",
    "    plt.grid(True)\n",
    "    plt.legend()\n",
    "    plt.show()\n",
    "    \n",
    "    print(\"Train Loss: \", lst_mean_loss[-1])\n",
    "    print(\"Validation Loss: \", val_lst_mean_loss[-1])\n",
    "    print(\"Test Loss\", test_lst_mean_loss[-1])\n",
    "    print(\"Train Accuracy: \", lst_mean_accuracy[-1])\n",
    "    print(\"Validation Accuracy: \", val_lst_mean_accuracy[-1])\n",
    "    print(\"Test Accuracy\", test_lst_mean_accuracy[-1])\n",
    "    \n",
    "    \n",
    "    return model, lst_mean_loss[-1], val_lst_mean_loss[-1], test_lst_mean_loss[-1], lst_mean_accuracy[-1], val_lst_mean_accuracy[-1], test_lst_mean_accuracy[-1]"
   ]
  },
  {
   "cell_type": "code",
   "execution_count": 5,
   "id": "77996120",
   "metadata": {},
   "outputs": [
    {
     "name": "stdout",
     "output_type": "stream",
     "text": [
      "Epoch:  1\n"
     ]
    },
    {
     "name": "stderr",
     "output_type": "stream",
     "text": [
      "100%|███████████████████████████████████████████████████████████| 364/364 [00:05<00:00, 62.21it/s, loss_function=0.948]\n"
     ]
    },
    {
     "name": "stdout",
     "output_type": "stream",
     "text": [
      "Epoch:  2\n"
     ]
    },
    {
     "name": "stderr",
     "output_type": "stream",
     "text": [
      "100%|██████████████████████████████████████████████████████████| 364/364 [00:02<00:00, 169.89it/s, loss_function=0.456]\n"
     ]
    },
    {
     "name": "stdout",
     "output_type": "stream",
     "text": [
      "Epoch:  3\n"
     ]
    },
    {
     "name": "stderr",
     "output_type": "stream",
     "text": [
      "100%|██████████████████████████████████████████████████████████| 364/364 [00:02<00:00, 161.04it/s, loss_function=0.383]\n"
     ]
    },
    {
     "name": "stdout",
     "output_type": "stream",
     "text": [
      "Epoch:  4\n"
     ]
    },
    {
     "name": "stderr",
     "output_type": "stream",
     "text": [
      "100%|██████████████████████████████████████████████████████████| 364/364 [00:02<00:00, 169.21it/s, loss_function=0.323]\n"
     ]
    },
    {
     "name": "stdout",
     "output_type": "stream",
     "text": [
      "Epoch:  5\n"
     ]
    },
    {
     "name": "stderr",
     "output_type": "stream",
     "text": [
      "100%|██████████████████████████████████████████████████████████| 364/364 [00:02<00:00, 169.21it/s, loss_function=0.316]\n"
     ]
    },
    {
     "name": "stdout",
     "output_type": "stream",
     "text": [
      "Epoch:  6\n"
     ]
    },
    {
     "name": "stderr",
     "output_type": "stream",
     "text": [
      "100%|██████████████████████████████████████████████████████████| 364/364 [00:02<00:00, 165.99it/s, loss_function=0.713]\n"
     ]
    },
    {
     "name": "stdout",
     "output_type": "stream",
     "text": [
      "Epoch:  7\n"
     ]
    },
    {
     "name": "stderr",
     "output_type": "stream",
     "text": [
      "100%|██████████████████████████████████████████████████████████| 364/364 [00:02<00:00, 169.25it/s, loss_function=0.316]\n"
     ]
    },
    {
     "name": "stdout",
     "output_type": "stream",
     "text": [
      "Epoch:  8\n"
     ]
    },
    {
     "name": "stderr",
     "output_type": "stream",
     "text": [
      "100%|██████████████████████████████████████████████████████████| 364/364 [00:02<00:00, 173.16it/s, loss_function=0.317]\n"
     ]
    },
    {
     "name": "stdout",
     "output_type": "stream",
     "text": [
      "Epoch:  9\n"
     ]
    },
    {
     "name": "stderr",
     "output_type": "stream",
     "text": [
      "100%|██████████████████████████████████████████████████████████| 364/364 [00:02<00:00, 171.66it/s, loss_function=0.313]\n"
     ]
    },
    {
     "name": "stdout",
     "output_type": "stream",
     "text": [
      "Epoch:  10\n"
     ]
    },
    {
     "name": "stderr",
     "output_type": "stream",
     "text": [
      "100%|██████████████████████████████████████████████████████████| 364/364 [00:02<00:00, 151.88it/s, loss_function=0.695]\n"
     ]
    },
    {
     "name": "stdout",
     "output_type": "stream",
     "text": [
      "Epoch:  11\n"
     ]
    },
    {
     "name": "stderr",
     "output_type": "stream",
     "text": [
      "100%|██████████████████████████████████████████████████████████| 364/364 [00:02<00:00, 163.87it/s, loss_function=0.693]\n"
     ]
    },
    {
     "name": "stdout",
     "output_type": "stream",
     "text": [
      "Epoch:  12\n"
     ]
    },
    {
     "name": "stderr",
     "output_type": "stream",
     "text": [
      "100%|██████████████████████████████████████████████████████████| 364/364 [00:02<00:00, 166.04it/s, loss_function=0.314]\n"
     ]
    },
    {
     "name": "stdout",
     "output_type": "stream",
     "text": [
      "Epoch:  13\n"
     ]
    },
    {
     "name": "stderr",
     "output_type": "stream",
     "text": [
      "100%|██████████████████████████████████████████████████████████| 364/364 [00:02<00:00, 171.26it/s, loss_function=0.313]\n"
     ]
    },
    {
     "name": "stdout",
     "output_type": "stream",
     "text": [
      "Epoch:  14\n"
     ]
    },
    {
     "name": "stderr",
     "output_type": "stream",
     "text": [
      "100%|██████████████████████████████████████████████████████████| 364/364 [00:02<00:00, 166.21it/s, loss_function=0.313]\n"
     ]
    },
    {
     "name": "stdout",
     "output_type": "stream",
     "text": [
      "Epoch:  15\n"
     ]
    },
    {
     "name": "stderr",
     "output_type": "stream",
     "text": [
      "100%|██████████████████████████████████████████████████████████| 364/364 [00:02<00:00, 160.44it/s, loss_function=0.313]\n"
     ]
    },
    {
     "name": "stdout",
     "output_type": "stream",
     "text": [
      "Epoch:  16\n"
     ]
    },
    {
     "name": "stderr",
     "output_type": "stream",
     "text": [
      "100%|██████████████████████████████████████████████████████████| 364/364 [00:02<00:00, 146.91it/s, loss_function=0.329]\n"
     ]
    },
    {
     "name": "stdout",
     "output_type": "stream",
     "text": [
      "Epoch:  17\n"
     ]
    },
    {
     "name": "stderr",
     "output_type": "stream",
     "text": [
      "100%|██████████████████████████████████████████████████████████| 364/364 [00:02<00:00, 167.83it/s, loss_function=0.853]\n"
     ]
    },
    {
     "name": "stdout",
     "output_type": "stream",
     "text": [
      "Epoch:  18\n"
     ]
    },
    {
     "name": "stderr",
     "output_type": "stream",
     "text": [
      "100%|██████████████████████████████████████████████████████████| 364/364 [00:02<00:00, 167.08it/s, loss_function=0.313]\n"
     ]
    },
    {
     "name": "stdout",
     "output_type": "stream",
     "text": [
      "Epoch:  19\n"
     ]
    },
    {
     "name": "stderr",
     "output_type": "stream",
     "text": [
      "100%|██████████████████████████████████████████████████████████| 364/364 [00:02<00:00, 165.11it/s, loss_function=0.693]\n"
     ]
    },
    {
     "name": "stdout",
     "output_type": "stream",
     "text": [
      "Epoch:  20\n"
     ]
    },
    {
     "name": "stderr",
     "output_type": "stream",
     "text": [
      "100%|██████████████████████████████████████████████████████████| 364/364 [00:02<00:00, 167.74it/s, loss_function=0.313]\n"
     ]
    },
    {
     "name": "stdout",
     "output_type": "stream",
     "text": [
      "Epoch:  21\n"
     ]
    },
    {
     "name": "stderr",
     "output_type": "stream",
     "text": [
      "100%|██████████████████████████████████████████████████████████| 364/364 [00:02<00:00, 163.67it/s, loss_function=0.693]\n"
     ]
    },
    {
     "name": "stdout",
     "output_type": "stream",
     "text": [
      "Epoch:  22\n"
     ]
    },
    {
     "name": "stderr",
     "output_type": "stream",
     "text": [
      "100%|██████████████████████████████████████████████████████████| 364/364 [00:02<00:00, 163.44it/s, loss_function=0.313]\n"
     ]
    },
    {
     "name": "stdout",
     "output_type": "stream",
     "text": [
      "Epoch:  23\n"
     ]
    },
    {
     "name": "stderr",
     "output_type": "stream",
     "text": [
      "100%|██████████████████████████████████████████████████████████| 364/364 [00:02<00:00, 166.27it/s, loss_function=0.745]\n"
     ]
    },
    {
     "name": "stdout",
     "output_type": "stream",
     "text": [
      "Epoch:  24\n"
     ]
    },
    {
     "name": "stderr",
     "output_type": "stream",
     "text": [
      "100%|██████████████████████████████████████████████████████████| 364/364 [00:02<00:00, 167.08it/s, loss_function=0.313]\n"
     ]
    },
    {
     "name": "stdout",
     "output_type": "stream",
     "text": [
      "Epoch:  25\n"
     ]
    },
    {
     "name": "stderr",
     "output_type": "stream",
     "text": [
      "100%|██████████████████████████████████████████████████████████| 364/364 [00:02<00:00, 175.28it/s, loss_function=0.313]\n"
     ]
    },
    {
     "name": "stdout",
     "output_type": "stream",
     "text": [
      "Epoch:  26\n"
     ]
    },
    {
     "name": "stderr",
     "output_type": "stream",
     "text": [
      "100%|██████████████████████████████████████████████████████████| 364/364 [00:02<00:00, 175.24it/s, loss_function=0.693]\n"
     ]
    },
    {
     "name": "stdout",
     "output_type": "stream",
     "text": [
      "Epoch:  27\n"
     ]
    },
    {
     "name": "stderr",
     "output_type": "stream",
     "text": [
      "100%|██████████████████████████████████████████████████████████| 364/364 [00:01<00:00, 188.18it/s, loss_function=0.693]\n"
     ]
    },
    {
     "name": "stdout",
     "output_type": "stream",
     "text": [
      "Epoch:  28\n"
     ]
    },
    {
     "name": "stderr",
     "output_type": "stream",
     "text": [
      "100%|██████████████████████████████████████████████████████████| 364/364 [00:01<00:00, 194.36it/s, loss_function=0.313]\n"
     ]
    },
    {
     "name": "stdout",
     "output_type": "stream",
     "text": [
      "Epoch:  29\n"
     ]
    },
    {
     "name": "stderr",
     "output_type": "stream",
     "text": [
      "100%|██████████████████████████████████████████████████████████| 364/364 [00:01<00:00, 185.36it/s, loss_function=0.313]\n"
     ]
    },
    {
     "name": "stdout",
     "output_type": "stream",
     "text": [
      "Epoch:  30\n"
     ]
    },
    {
     "name": "stderr",
     "output_type": "stream",
     "text": [
      "100%|██████████████████████████████████████████████████████████| 364/364 [00:01<00:00, 186.85it/s, loss_function=0.693]\n"
     ]
    },
    {
     "name": "stdout",
     "output_type": "stream",
     "text": [
      "Epoch:  31\n"
     ]
    },
    {
     "name": "stderr",
     "output_type": "stream",
     "text": [
      "100%|██████████████████████████████████████████████████████████| 364/364 [00:01<00:00, 201.43it/s, loss_function=0.313]\n"
     ]
    },
    {
     "name": "stdout",
     "output_type": "stream",
     "text": [
      "Epoch:  32\n"
     ]
    },
    {
     "name": "stderr",
     "output_type": "stream",
     "text": [
      "100%|██████████████████████████████████████████████████████████| 364/364 [00:01<00:00, 191.53it/s, loss_function=0.693]\n"
     ]
    },
    {
     "name": "stdout",
     "output_type": "stream",
     "text": [
      "Epoch:  33\n"
     ]
    },
    {
     "name": "stderr",
     "output_type": "stream",
     "text": [
      "100%|██████████████████████████████████████████████████████████| 364/364 [00:02<00:00, 170.70it/s, loss_function=0.693]\n"
     ]
    },
    {
     "name": "stdout",
     "output_type": "stream",
     "text": [
      "Epoch:  34\n"
     ]
    },
    {
     "name": "stderr",
     "output_type": "stream",
     "text": [
      "100%|██████████████████████████████████████████████████████████| 364/364 [00:02<00:00, 181.47it/s, loss_function=0.313]\n"
     ]
    },
    {
     "name": "stdout",
     "output_type": "stream",
     "text": [
      "Epoch:  35\n"
     ]
    },
    {
     "name": "stderr",
     "output_type": "stream",
     "text": [
      "100%|██████████████████████████████████████████████████████████| 364/364 [00:02<00:00, 177.69it/s, loss_function=0.313]\n"
     ]
    },
    {
     "name": "stdout",
     "output_type": "stream",
     "text": [
      "Epoch:  36\n"
     ]
    },
    {
     "name": "stderr",
     "output_type": "stream",
     "text": [
      "100%|██████████████████████████████████████████████████████████| 364/364 [00:01<00:00, 193.55it/s, loss_function=0.693]\n"
     ]
    },
    {
     "name": "stdout",
     "output_type": "stream",
     "text": [
      "Epoch:  37\n"
     ]
    },
    {
     "name": "stderr",
     "output_type": "stream",
     "text": [
      "100%|██████████████████████████████████████████████████████████| 364/364 [00:01<00:00, 202.83it/s, loss_function=0.693]\n"
     ]
    },
    {
     "name": "stdout",
     "output_type": "stream",
     "text": [
      "Epoch:  38\n"
     ]
    },
    {
     "name": "stderr",
     "output_type": "stream",
     "text": [
      "100%|██████████████████████████████████████████████████████████| 364/364 [00:02<00:00, 171.46it/s, loss_function=0.313]\n"
     ]
    },
    {
     "name": "stdout",
     "output_type": "stream",
     "text": [
      "Epoch:  39\n"
     ]
    },
    {
     "name": "stderr",
     "output_type": "stream",
     "text": [
      "100%|██████████████████████████████████████████████████████████| 364/364 [00:01<00:00, 196.49it/s, loss_function=0.313]\n"
     ]
    },
    {
     "name": "stdout",
     "output_type": "stream",
     "text": [
      "Epoch:  40\n"
     ]
    },
    {
     "name": "stderr",
     "output_type": "stream",
     "text": [
      "100%|██████████████████████████████████████████████████████████| 364/364 [00:01<00:00, 182.36it/s, loss_function=0.314]\n"
     ]
    },
    {
     "name": "stdout",
     "output_type": "stream",
     "text": [
      "Epoch:  41\n"
     ]
    },
    {
     "name": "stderr",
     "output_type": "stream",
     "text": [
      "100%|██████████████████████████████████████████████████████████| 364/364 [00:01<00:00, 188.24it/s, loss_function=0.693]\n"
     ]
    },
    {
     "name": "stdout",
     "output_type": "stream",
     "text": [
      "Epoch:  42\n"
     ]
    },
    {
     "name": "stderr",
     "output_type": "stream",
     "text": [
      "100%|██████████████████████████████████████████████████████████| 364/364 [00:01<00:00, 187.29it/s, loss_function=0.313]\n"
     ]
    },
    {
     "name": "stdout",
     "output_type": "stream",
     "text": [
      "Epoch:  43\n"
     ]
    },
    {
     "name": "stderr",
     "output_type": "stream",
     "text": [
      "100%|██████████████████████████████████████████████████████████| 364/364 [00:01<00:00, 190.85it/s, loss_function=0.313]\n"
     ]
    },
    {
     "name": "stdout",
     "output_type": "stream",
     "text": [
      "Epoch:  44\n"
     ]
    },
    {
     "name": "stderr",
     "output_type": "stream",
     "text": [
      "100%|██████████████████████████████████████████████████████████| 364/364 [00:01<00:00, 198.69it/s, loss_function=0.313]\n"
     ]
    },
    {
     "name": "stdout",
     "output_type": "stream",
     "text": [
      "Epoch:  45\n"
     ]
    },
    {
     "name": "stderr",
     "output_type": "stream",
     "text": [
      "100%|██████████████████████████████████████████████████████████| 364/364 [00:01<00:00, 200.38it/s, loss_function=0.693]\n"
     ]
    },
    {
     "name": "stdout",
     "output_type": "stream",
     "text": [
      "Epoch:  46\n"
     ]
    },
    {
     "name": "stderr",
     "output_type": "stream",
     "text": [
      "100%|██████████████████████████████████████████████████████████| 364/364 [00:02<00:00, 169.37it/s, loss_function=0.693]\n"
     ]
    },
    {
     "name": "stdout",
     "output_type": "stream",
     "text": [
      "Epoch:  47\n"
     ]
    },
    {
     "name": "stderr",
     "output_type": "stream",
     "text": [
      "100%|██████████████████████████████████████████████████████████| 364/364 [00:01<00:00, 216.77it/s, loss_function=0.693]\n"
     ]
    },
    {
     "name": "stdout",
     "output_type": "stream",
     "text": [
      "Epoch:  48\n"
     ]
    },
    {
     "name": "stderr",
     "output_type": "stream",
     "text": [
      "100%|██████████████████████████████████████████████████████████| 364/364 [00:01<00:00, 196.84it/s, loss_function=0.693]\n"
     ]
    },
    {
     "name": "stdout",
     "output_type": "stream",
     "text": [
      "Epoch:  49\n"
     ]
    },
    {
     "name": "stderr",
     "output_type": "stream",
     "text": [
      "100%|██████████████████████████████████████████████████████████| 364/364 [00:02<00:00, 159.69it/s, loss_function=0.693]\n"
     ]
    },
    {
     "name": "stdout",
     "output_type": "stream",
     "text": [
      "Epoch:  50\n"
     ]
    },
    {
     "name": "stderr",
     "output_type": "stream",
     "text": [
      "100%|██████████████████████████████████████████████████████████| 364/364 [00:01<00:00, 199.53it/s, loss_function=0.693]\n"
     ]
    },
    {
     "name": "stdout",
     "output_type": "stream",
     "text": [
      "Epoch:  51\n"
     ]
    },
    {
     "name": "stderr",
     "output_type": "stream",
     "text": [
      "100%|██████████████████████████████████████████████████████████| 364/364 [00:01<00:00, 201.77it/s, loss_function=0.314]\n"
     ]
    },
    {
     "name": "stdout",
     "output_type": "stream",
     "text": [
      "Epoch:  52\n"
     ]
    },
    {
     "name": "stderr",
     "output_type": "stream",
     "text": [
      "100%|██████████████████████████████████████████████████████████| 364/364 [00:01<00:00, 205.11it/s, loss_function=0.693]\n"
     ]
    },
    {
     "name": "stdout",
     "output_type": "stream",
     "text": [
      "Epoch:  53\n"
     ]
    },
    {
     "name": "stderr",
     "output_type": "stream",
     "text": [
      "100%|██████████████████████████████████████████████████████████| 364/364 [00:01<00:00, 185.09it/s, loss_function=0.693]\n"
     ]
    },
    {
     "name": "stdout",
     "output_type": "stream",
     "text": [
      "Epoch:  54\n"
     ]
    },
    {
     "name": "stderr",
     "output_type": "stream",
     "text": [
      "100%|██████████████████████████████████████████████████████████| 364/364 [00:02<00:00, 180.84it/s, loss_function=0.313]\n"
     ]
    },
    {
     "name": "stdout",
     "output_type": "stream",
     "text": [
      "Epoch:  55\n"
     ]
    },
    {
     "name": "stderr",
     "output_type": "stream",
     "text": [
      "100%|██████████████████████████████████████████████████████████| 364/364 [00:01<00:00, 189.04it/s, loss_function=0.313]\n"
     ]
    },
    {
     "name": "stdout",
     "output_type": "stream",
     "text": [
      "Epoch:  56\n"
     ]
    },
    {
     "name": "stderr",
     "output_type": "stream",
     "text": [
      "100%|██████████████████████████████████████████████████████████| 364/364 [00:01<00:00, 202.56it/s, loss_function=0.693]\n"
     ]
    },
    {
     "name": "stdout",
     "output_type": "stream",
     "text": [
      "Epoch:  57\n"
     ]
    },
    {
     "name": "stderr",
     "output_type": "stream",
     "text": [
      "100%|██████████████████████████████████████████████████████████| 364/364 [00:01<00:00, 184.20it/s, loss_function=0.313]\n"
     ]
    },
    {
     "name": "stdout",
     "output_type": "stream",
     "text": [
      "Epoch:  58\n"
     ]
    },
    {
     "name": "stderr",
     "output_type": "stream",
     "text": [
      "100%|██████████████████████████████████████████████████████████| 364/364 [00:02<00:00, 180.48it/s, loss_function=0.313]\n"
     ]
    },
    {
     "name": "stdout",
     "output_type": "stream",
     "text": [
      "Epoch:  59\n"
     ]
    },
    {
     "name": "stderr",
     "output_type": "stream",
     "text": [
      "100%|██████████████████████████████████████████████████████████| 364/364 [00:01<00:00, 199.63it/s, loss_function=0.313]\n"
     ]
    },
    {
     "name": "stdout",
     "output_type": "stream",
     "text": [
      "Epoch:  60\n"
     ]
    },
    {
     "name": "stderr",
     "output_type": "stream",
     "text": [
      "100%|██████████████████████████████████████████████████████████| 364/364 [00:01<00:00, 202.60it/s, loss_function=0.313]\n"
     ]
    },
    {
     "name": "stdout",
     "output_type": "stream",
     "text": [
      "Epoch:  61\n"
     ]
    },
    {
     "name": "stderr",
     "output_type": "stream",
     "text": [
      "100%|███████████████████████████████████████████████████████████| 364/364 [00:01<00:00, 186.23it/s, loss_function=1.31]\n"
     ]
    },
    {
     "name": "stdout",
     "output_type": "stream",
     "text": [
      "Epoch:  62\n"
     ]
    },
    {
     "name": "stderr",
     "output_type": "stream",
     "text": [
      "100%|██████████████████████████████████████████████████████████| 364/364 [00:01<00:00, 183.66it/s, loss_function=0.318]\n"
     ]
    },
    {
     "name": "stdout",
     "output_type": "stream",
     "text": [
      "Epoch:  63\n"
     ]
    },
    {
     "name": "stderr",
     "output_type": "stream",
     "text": [
      "100%|██████████████████████████████████████████████████████████| 364/364 [00:01<00:00, 188.75it/s, loss_function=0.313]\n"
     ]
    },
    {
     "name": "stdout",
     "output_type": "stream",
     "text": [
      "Epoch:  64\n"
     ]
    },
    {
     "name": "stderr",
     "output_type": "stream",
     "text": [
      "100%|██████████████████████████████████████████████████████████| 364/364 [00:01<00:00, 208.01it/s, loss_function=0.313]\n"
     ]
    },
    {
     "name": "stdout",
     "output_type": "stream",
     "text": [
      "Epoch:  65\n"
     ]
    },
    {
     "name": "stderr",
     "output_type": "stream",
     "text": [
      "100%|██████████████████████████████████████████████████████████| 364/364 [00:02<00:00, 169.18it/s, loss_function=0.314]\n"
     ]
    },
    {
     "name": "stdout",
     "output_type": "stream",
     "text": [
      "Epoch:  66\n"
     ]
    },
    {
     "name": "stderr",
     "output_type": "stream",
     "text": [
      "100%|██████████████████████████████████████████████████████████| 364/364 [00:02<00:00, 123.22it/s, loss_function=0.313]\n"
     ]
    },
    {
     "name": "stdout",
     "output_type": "stream",
     "text": [
      "Epoch:  67\n"
     ]
    },
    {
     "name": "stderr",
     "output_type": "stream",
     "text": [
      "100%|██████████████████████████████████████████████████████████| 364/364 [00:02<00:00, 122.66it/s, loss_function=0.313]\n"
     ]
    },
    {
     "name": "stdout",
     "output_type": "stream",
     "text": [
      "Epoch:  68\n"
     ]
    },
    {
     "name": "stderr",
     "output_type": "stream",
     "text": [
      "100%|██████████████████████████████████████████████████████████| 364/364 [00:02<00:00, 146.17it/s, loss_function=0.313]\n"
     ]
    },
    {
     "name": "stdout",
     "output_type": "stream",
     "text": [
      "Epoch:  69\n"
     ]
    },
    {
     "name": "stderr",
     "output_type": "stream",
     "text": [
      "100%|██████████████████████████████████████████████████████████| 364/364 [00:02<00:00, 151.36it/s, loss_function=0.693]\n"
     ]
    },
    {
     "name": "stdout",
     "output_type": "stream",
     "text": [
      "Epoch:  70\n"
     ]
    },
    {
     "name": "stderr",
     "output_type": "stream",
     "text": [
      "100%|██████████████████████████████████████████████████████████| 364/364 [00:02<00:00, 147.19it/s, loss_function=0.313]\n"
     ]
    },
    {
     "name": "stdout",
     "output_type": "stream",
     "text": [
      "Epoch:  71\n"
     ]
    },
    {
     "name": "stderr",
     "output_type": "stream",
     "text": [
      "100%|██████████████████████████████████████████████████████████| 364/364 [00:02<00:00, 148.28it/s, loss_function=0.313]\n"
     ]
    },
    {
     "name": "stdout",
     "output_type": "stream",
     "text": [
      "Epoch:  72\n"
     ]
    },
    {
     "name": "stderr",
     "output_type": "stream",
     "text": [
      "100%|██████████████████████████████████████████████████████████| 364/364 [00:02<00:00, 157.05it/s, loss_function=0.693]\n"
     ]
    },
    {
     "name": "stdout",
     "output_type": "stream",
     "text": [
      "Epoch:  73\n"
     ]
    },
    {
     "name": "stderr",
     "output_type": "stream",
     "text": [
      "100%|██████████████████████████████████████████████████████████| 364/364 [00:02<00:00, 152.54it/s, loss_function=0.693]\n"
     ]
    },
    {
     "name": "stdout",
     "output_type": "stream",
     "text": [
      "Epoch:  74\n"
     ]
    },
    {
     "name": "stderr",
     "output_type": "stream",
     "text": [
      "100%|██████████████████████████████████████████████████████████| 364/364 [00:02<00:00, 152.90it/s, loss_function=0.693]\n"
     ]
    },
    {
     "name": "stdout",
     "output_type": "stream",
     "text": [
      "Epoch:  75\n"
     ]
    },
    {
     "name": "stderr",
     "output_type": "stream",
     "text": [
      "100%|██████████████████████████████████████████████████████████| 364/364 [00:02<00:00, 153.02it/s, loss_function=0.693]\n"
     ]
    },
    {
     "name": "stdout",
     "output_type": "stream",
     "text": [
      "Epoch:  76\n"
     ]
    },
    {
     "name": "stderr",
     "output_type": "stream",
     "text": [
      "100%|██████████████████████████████████████████████████████████| 364/364 [00:02<00:00, 149.23it/s, loss_function=0.693]\n"
     ]
    },
    {
     "name": "stdout",
     "output_type": "stream",
     "text": [
      "Epoch:  77\n"
     ]
    },
    {
     "name": "stderr",
     "output_type": "stream",
     "text": [
      "100%|██████████████████████████████████████████████████████████| 364/364 [00:02<00:00, 153.63it/s, loss_function=0.313]\n"
     ]
    },
    {
     "name": "stdout",
     "output_type": "stream",
     "text": [
      "Epoch:  78\n"
     ]
    },
    {
     "name": "stderr",
     "output_type": "stream",
     "text": [
      "100%|██████████████████████████████████████████████████████████| 364/364 [00:02<00:00, 149.14it/s, loss_function=0.693]\n"
     ]
    },
    {
     "name": "stdout",
     "output_type": "stream",
     "text": [
      "Epoch:  79\n"
     ]
    },
    {
     "name": "stderr",
     "output_type": "stream",
     "text": [
      "100%|██████████████████████████████████████████████████████████| 364/364 [00:02<00:00, 157.66it/s, loss_function=0.313]\n"
     ]
    },
    {
     "name": "stdout",
     "output_type": "stream",
     "text": [
      "Epoch:  80\n"
     ]
    },
    {
     "name": "stderr",
     "output_type": "stream",
     "text": [
      "100%|██████████████████████████████████████████████████████████| 364/364 [00:02<00:00, 155.75it/s, loss_function=0.313]\n"
     ]
    },
    {
     "name": "stdout",
     "output_type": "stream",
     "text": [
      "Epoch:  81\n"
     ]
    },
    {
     "name": "stderr",
     "output_type": "stream",
     "text": [
      "100%|██████████████████████████████████████████████████████████| 364/364 [00:02<00:00, 156.46it/s, loss_function=0.313]\n"
     ]
    },
    {
     "name": "stdout",
     "output_type": "stream",
     "text": [
      "Epoch:  82\n"
     ]
    },
    {
     "name": "stderr",
     "output_type": "stream",
     "text": [
      "100%|██████████████████████████████████████████████████████████| 364/364 [00:02<00:00, 155.92it/s, loss_function=0.313]\n"
     ]
    },
    {
     "name": "stdout",
     "output_type": "stream",
     "text": [
      "Epoch:  83\n"
     ]
    },
    {
     "name": "stderr",
     "output_type": "stream",
     "text": [
      "100%|██████████████████████████████████████████████████████████| 364/364 [00:02<00:00, 146.71it/s, loss_function=0.313]\n"
     ]
    },
    {
     "name": "stdout",
     "output_type": "stream",
     "text": [
      "Epoch:  84\n"
     ]
    },
    {
     "name": "stderr",
     "output_type": "stream",
     "text": [
      "100%|██████████████████████████████████████████████████████████| 364/364 [00:02<00:00, 146.01it/s, loss_function=0.313]\n"
     ]
    },
    {
     "name": "stdout",
     "output_type": "stream",
     "text": [
      "Epoch:  85\n"
     ]
    },
    {
     "name": "stderr",
     "output_type": "stream",
     "text": [
      "100%|██████████████████████████████████████████████████████████| 364/364 [00:02<00:00, 163.41it/s, loss_function=0.313]\n"
     ]
    },
    {
     "name": "stdout",
     "output_type": "stream",
     "text": [
      "Epoch:  86\n"
     ]
    },
    {
     "name": "stderr",
     "output_type": "stream",
     "text": [
      "100%|██████████████████████████████████████████████████████████| 364/364 [00:02<00:00, 153.33it/s, loss_function=0.693]\n"
     ]
    },
    {
     "name": "stdout",
     "output_type": "stream",
     "text": [
      "Epoch:  87\n"
     ]
    },
    {
     "name": "stderr",
     "output_type": "stream",
     "text": [
      "100%|██████████████████████████████████████████████████████████| 364/364 [00:02<00:00, 162.67it/s, loss_function=0.693]\n"
     ]
    },
    {
     "name": "stdout",
     "output_type": "stream",
     "text": [
      "Epoch:  88\n"
     ]
    },
    {
     "name": "stderr",
     "output_type": "stream",
     "text": [
      "100%|██████████████████████████████████████████████████████████| 364/364 [00:02<00:00, 160.48it/s, loss_function=0.313]\n"
     ]
    },
    {
     "name": "stdout",
     "output_type": "stream",
     "text": [
      "Epoch:  89\n"
     ]
    },
    {
     "name": "stderr",
     "output_type": "stream",
     "text": [
      "100%|██████████████████████████████████████████████████████████| 364/364 [00:02<00:00, 146.91it/s, loss_function=0.313]\n"
     ]
    },
    {
     "name": "stdout",
     "output_type": "stream",
     "text": [
      "Epoch:  90\n"
     ]
    },
    {
     "name": "stderr",
     "output_type": "stream",
     "text": [
      "100%|██████████████████████████████████████████████████████████| 364/364 [00:02<00:00, 152.26it/s, loss_function=0.313]\n"
     ]
    },
    {
     "name": "stdout",
     "output_type": "stream",
     "text": [
      "Epoch:  91\n"
     ]
    },
    {
     "name": "stderr",
     "output_type": "stream",
     "text": [
      "100%|██████████████████████████████████████████████████████████| 364/364 [00:02<00:00, 149.83it/s, loss_function=0.693]\n"
     ]
    },
    {
     "name": "stdout",
     "output_type": "stream",
     "text": [
      "Epoch:  92\n"
     ]
    },
    {
     "name": "stderr",
     "output_type": "stream",
     "text": [
      "100%|██████████████████████████████████████████████████████████| 364/364 [00:02<00:00, 154.76it/s, loss_function=0.313]\n"
     ]
    },
    {
     "name": "stdout",
     "output_type": "stream",
     "text": [
      "Epoch:  93\n"
     ]
    },
    {
     "name": "stderr",
     "output_type": "stream",
     "text": [
      "100%|██████████████████████████████████████████████████████████| 364/364 [00:02<00:00, 149.82it/s, loss_function=0.693]\n"
     ]
    },
    {
     "name": "stdout",
     "output_type": "stream",
     "text": [
      "Epoch:  94\n"
     ]
    },
    {
     "name": "stderr",
     "output_type": "stream",
     "text": [
      "100%|██████████████████████████████████████████████████████████| 364/364 [00:02<00:00, 155.89it/s, loss_function=0.693]\n"
     ]
    },
    {
     "name": "stdout",
     "output_type": "stream",
     "text": [
      "Epoch:  95\n"
     ]
    },
    {
     "name": "stderr",
     "output_type": "stream",
     "text": [
      "100%|██████████████████████████████████████████████████████████| 364/364 [00:02<00:00, 161.14it/s, loss_function=0.313]\n"
     ]
    },
    {
     "name": "stdout",
     "output_type": "stream",
     "text": [
      "Epoch:  96\n"
     ]
    },
    {
     "name": "stderr",
     "output_type": "stream",
     "text": [
      "100%|██████████████████████████████████████████████████████████| 364/364 [00:02<00:00, 153.46it/s, loss_function=0.693]\n"
     ]
    },
    {
     "name": "stdout",
     "output_type": "stream",
     "text": [
      "Epoch:  97\n"
     ]
    },
    {
     "name": "stderr",
     "output_type": "stream",
     "text": [
      "100%|██████████████████████████████████████████████████████████| 364/364 [00:02<00:00, 163.05it/s, loss_function=0.313]\n"
     ]
    },
    {
     "name": "stdout",
     "output_type": "stream",
     "text": [
      "Epoch:  98\n"
     ]
    },
    {
     "name": "stderr",
     "output_type": "stream",
     "text": [
      "100%|██████████████████████████████████████████████████████████| 364/364 [00:02<00:00, 159.37it/s, loss_function=0.313]\n"
     ]
    },
    {
     "name": "stdout",
     "output_type": "stream",
     "text": [
      "Epoch:  99\n"
     ]
    },
    {
     "name": "stderr",
     "output_type": "stream",
     "text": [
      "100%|██████████████████████████████████████████████████████████| 364/364 [00:02<00:00, 155.23it/s, loss_function=0.313]\n"
     ]
    },
    {
     "name": "stdout",
     "output_type": "stream",
     "text": [
      "Epoch:  100\n"
     ]
    },
    {
     "name": "stderr",
     "output_type": "stream",
     "text": [
      "100%|██████████████████████████████████████████████████████████| 364/364 [00:02<00:00, 158.82it/s, loss_function=0.313]\n"
     ]
    },
    {
     "data": {
      "image/png": "[encoded data removed]",
      "text/plain": [
       "<Figure size 640x480 with 1 Axes>"
      ]
     },
     "metadata": {},
     "output_type": "display_data"
    },
    {
     "data": {
      "image/png": "[encoded data removed]",
      "text/plain": [
       "<Figure size 640x480 with 1 Axes>"
      ]
     },
     "metadata": {},
     "output_type": "display_data"
    },
    {
     "name": "stdout",
     "output_type": "stream",
     "text": [
      "Train Loss:  0.47047705111513427\n",
      "Validation Loss:  0.4623205796047881\n",
      "Test Loss 0.4694755861633702\n",
      "Train Accuracy:  0.9917582417582418\n",
      "Validation Accuracy:  0.978021978021978\n",
      "Test Accuracy 0.9736842105263158\n"
     ]
    }
   ],
   "source": [
    "loss_fn = nn.BCEWithLogitsLoss()\n",
    "lr = 1e-4\n",
    "epochs = 100\n",
    "device = torch.device('cuda' if torch.cuda.is_available() else 'cpu')\n",
    "ann_model, train_loss, val_loss, test_loss, train_accuracy, val_accuracy, test_accuracy = train(ANN_Model(len(X[0]) , 1).to(device), loss_fn, lr, epochs, train_loader, val_loader, test_loader)"
   ]
  },
  {
   "cell_type": "markdown",
   "id": "ce4ab382",
   "metadata": {},
   "source": [
    "# Make predictions"
   ]
  },
  {
   "cell_type": "code",
   "execution_count": 6,
   "id": "84a87efa",
   "metadata": {},
   "outputs": [
    {
     "name": "stdout",
     "output_type": "stream",
     "text": [
      "Features:  [1.504e+01 1.674e+01 9.873e+01 6.894e+02 9.883e-02 1.364e-01 7.721e-02\n",
      " 6.142e-02 1.668e-01 6.869e-02 3.720e-01 8.423e-01 2.304e+00 3.484e+01\n",
      " 4.123e-03 1.819e-02 1.996e-02 1.004e-02 1.055e-02 3.237e-03 1.676e+01\n",
      " 2.043e+01 1.097e+02 8.569e+02 1.135e-01 2.176e-01 1.856e-01 1.018e-01\n",
      " 2.177e-01 8.549e-02]\n",
      "Features scale:  [[0.29239514470100403, -0.6174443960189819, 0.3117380142211914, 0.12546074390411377, 0.17620830237865448, 0.6334572434425354, -0.14775219559669495, 0.361392080783844, -0.5468498468399048, 0.8104315996170044, -0.11657126247882843, -0.6821584701538086, -0.2673841416835785, -0.11391470581293106, -1.0324766635894775, -0.41856786608695984, -0.4576573371887207, -0.28310391306877136, -1.2009905576705933, -0.25130197405815125, 0.1387661099433899, -0.895604133605957, 0.10887289047241211, -0.011846974492073059, -0.8302105665206909, -0.2378392517566681, -0.4259343147277832, -0.16755878925323486, -1.1363447904586792, 0.044824980199337006]]\n",
      "Target:  1\n",
      "Prediction:  0.9999998807907104\n",
      "Accuracy:  1.0\n",
      "Loss:  0.3132617473602295\n"
     ]
    }
   ],
   "source": [
    "index = 500\n",
    "scaler = StandardScaler()\n",
    "scaler.fit(X_train)\n",
    "x_index = X[index]\n",
    "x_input = scaler.transform(np.array([x_index]))\n",
    "x_input = torch.tensor(x_input, dtype = torch.float32)\n",
    "x_input = x_input.to(device)\n",
    "y_index = Y[index]\n",
    "y_output = torch.tensor(y_index, dtype = torch.float32).reshape(-1,1)\n",
    "y_output = y_output.to(device)\n",
    "\n",
    "ann_model.eval()\n",
    "with torch.no_grad():\n",
    "    prediction = ann_model(x_input)\n",
    "    loss = loss_fn(prediction, y_output)\n",
    "    prediction_round = prediction.round().cpu().numpy()\n",
    "    y_output = y_output.cpu().numpy()\n",
    "    accuracy = accuracy_score(y_output, prediction_round)\n",
    "    \n",
    "print(\"Features: \", x_index)\n",
    "print(\"Features scale: \", x_input.tolist())\n",
    "print(\"Target: \", y_index)\n",
    "print(\"Prediction: \", float(prediction))\n",
    "print(\"Accuracy: \", accuracy)\n",
    "print(\"Loss: \", loss.item())"
   ]
  },
  {
   "cell_type": "markdown",
   "id": "697962de",
   "metadata": {},
   "source": [
    "# Confusion Matrix"
   ]
  },
  {
   "cell_type": "code",
   "execution_count": 7,
   "id": "cb595705",
   "metadata": {},
   "outputs": [],
   "source": [
    "test_loader = DataLoader(test_dataset, batch_size = 1, shuffle = True)\n",
    "y_test = []\n",
    "y_pred = []\n",
    "for i, data in enumerate(test_loader, 0):\n",
    "    x_input, y_output = data\n",
    "    x_input = x_input.to(device = device)\n",
    "    y_output = y_output.to(device = device).reshape(-1,1)\n",
    "    with torch.no_grad():\n",
    "        prediction = ann_model(x_input)\n",
    "        loss = loss_fn(prediction, y_output)\n",
    "        y_output = y_output.cpu().numpy()\n",
    "        prediction = prediction.round().cpu().numpy()\n",
    "        y_test.append(int(y_output))\n",
    "        y_pred.append(float(prediction))"
   ]
  },
  {
   "cell_type": "code",
   "execution_count": 8,
   "id": "28316ef1",
   "metadata": {},
   "outputs": [
    {
     "data": {
      "image/png": "[encoded data removed]",
      "text/plain": [
       "<Figure size 640x480 with 1 Axes>"
      ]
     },
     "metadata": {},
     "output_type": "display_data"
    }
   ],
   "source": [
    "from sklearn.metrics import confusion_matrix\n",
    "cm = confusion_matrix(y_test, y_pred)\n",
    "labels = ['Cancer', 'Non-Cancer']\n",
    "sns.heatmap(cm, annot=True, fmt='d', cmap='Blues', cbar=False, xticklabels=labels, yticklabels=labels)\n",
    "plt.xlabel('Predicted')\n",
    "plt.ylabel('Actual')\n",
    "plt.title('Confusion Matrix')\n",
    "plt.show()"
   ]
  },
  {
   "cell_type": "markdown",
   "id": "fd821758",
   "metadata": {},
   "source": [
    "# ROC Curve"
   ]
  },
  {
   "cell_type": "code",
   "execution_count": 9,
   "id": "941cb553",
   "metadata": {},
   "outputs": [],
   "source": [
    "from sklearn.metrics import roc_curve, auc\n",
    "test_loader = DataLoader(test_dataset, batch_size = 1, shuffle = True)\n",
    "y_test = []\n",
    "y_pred = []\n",
    "for i, data in enumerate(test_loader, 0):\n",
    "    x_input, y_output = data\n",
    "    x_input = x_input.to(device = device)\n",
    "    y_output = y_output.to(device = device).reshape(-1,1)\n",
    "    with torch.no_grad():\n",
    "        prediction = ann_model(x_input)\n",
    "        loss = loss_fn(prediction, y_output)\n",
    "        y_output = y_output.cpu().numpy()\n",
    "        prediction = prediction.cpu().numpy()\n",
    "        y_test.append(int(y_output))\n",
    "        y_pred.append(float(prediction))"
   ]
  },
  {
   "cell_type": "code",
   "execution_count": 10,
   "id": "11e6d083",
   "metadata": {},
   "outputs": [
    {
     "data": {
      "image/png": "[encoded data removed]",
      "text/plain": [
       "<Figure size 640x480 with 1 Axes>"
      ]
     },
     "metadata": {},
     "output_type": "display_data"
    }
   ],
   "source": [
    "fpr, tpr, thresholds = roc_curve(y_test, y_pred)\n",
    "plt.plot(fpr, tpr, label = \"sklearn\")\n",
    "plt.plot([0, 1], [0, 1], color='navy', lw=2, linestyle='--')\n",
    "plt.xlabel('False Positive Rate')\n",
    "plt.ylabel('True Positive Rate')\n",
    "plt.title('ROC Curve')\n",
    "plt.grid()\n",
    "plt.legend()\n",
    "plt.savefig('roc_curve_sklearn.png', format='png')\n",
    "plt.show()"
   ]
  },
  {
   "cell_type": "code",
   "execution_count": 11,
   "id": "3d1a31c9",
   "metadata": {},
   "outputs": [
    {
     "data": {
      "text/plain": [
       "0.9857804232804233"
      ]
     },
     "execution_count": 11,
     "metadata": {},
     "output_type": "execute_result"
    }
   ],
   "source": [
    "roc_auc = auc(fpr, tpr)\n",
    "roc_auc"
   ]
  },
  {
   "cell_type": "markdown",
   "id": "52dcf2d0",
   "metadata": {},
   "source": [
    "# Save model"
   ]
  },
  {
   "cell_type": "code",
   "execution_count": 12,
   "id": "604a5626",
   "metadata": {},
   "outputs": [],
   "source": [
    "torch.save(ann_model, \"Binary_Classification_Model_Checkpoint.pt\")"
   ]
  }
 ],
 "metadata": {
  "kernelspec": {
   "display_name": "Python 3 (ipykernel)",
   "language": "python",
   "name": "python3"
  },
  "language_info": {
   "codemirror_mode": {
    "name": "ipython",
    "version": 3
   },
   "file_extension": ".py",
   "mimetype": "text/x-python",
   "name": "python",
   "nbconvert_exporter": "python",
   "pygments_lexer": "ipython3",
   "version": "3.11.5"
  }
 },
 "nbformat": 4,
 "nbformat_minor": 5
}
